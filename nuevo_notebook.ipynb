{
 "cells": [
  {
   "cell_type": "code",
   "execution_count": 2,
   "metadata": {},
   "outputs": [],
   "source": [
    "import csv\n",
    "# DIFERENTES FORMAS DE IMPORTAR MODULOS:\n",
    "# FORMA 1: (importar función específica)\n",
    "#from funciones import extraer_datos_csv\n",
    "#from funciones import suma\n",
    "# FORMA 2: (importar todas las funciones del módulo)\n",
    "#from funciones import *\n",
    "# FORMA 3: (importar por nombre o alias)\n",
    "import funciones as f"
   ]
  },
  {
   "cell_type": "code",
   "execution_count": 3,
   "metadata": {},
   "outputs": [],
   "source": [
    "resultado = f.suma(15, 1)"
   ]
  },
  {
   "cell_type": "code",
   "execution_count": 4,
   "metadata": {},
   "outputs": [
    {
     "data": {
      "text/plain": [
       "16"
      ]
     },
     "execution_count": 4,
     "metadata": {},
     "output_type": "execute_result"
    }
   ],
   "source": [
    "resultado"
   ]
  },
  {
   "cell_type": "code",
   "execution_count": 5,
   "metadata": {},
   "outputs": [],
   "source": [
    "datos = f.extraer_datos_csv(\"datos.csv\")"
   ]
  },
  {
   "cell_type": "code",
   "execution_count": 14,
   "metadata": {},
   "outputs": [
    {
     "data": {
      "text/plain": [
       "[['nombre', ' edad', ' comuna '],\n",
       " ['juan', ' 21', ' puente alto'],\n",
       " ['maría', ' 30', ' concepción'],\n",
       " ['carlos', ' 22', ' viña del mar']]"
      ]
     },
     "execution_count": 14,
     "metadata": {},
     "output_type": "execute_result"
    }
   ],
   "source": [
    "datos"
   ]
  },
  {
   "cell_type": "code",
   "execution_count": 8,
   "metadata": {},
   "outputs": [],
   "source": [
    "# VAMOS A RESPONDER EL PROMEDIO DE LA EDAD:"
   ]
  },
  {
   "cell_type": "code",
   "execution_count": 20,
   "metadata": {},
   "outputs": [],
   "source": [
    "datos_puros = datos[1:]"
   ]
  },
  {
   "cell_type": "code",
   "execution_count": 21,
   "metadata": {},
   "outputs": [
    {
     "data": {
      "text/plain": [
       "[['juan', ' 21', ' puente alto'],\n",
       " ['maría', ' 30', ' concepción'],\n",
       " ['carlos', ' 22', ' viña del mar']]"
      ]
     },
     "execution_count": 21,
     "metadata": {},
     "output_type": "execute_result"
    }
   ],
   "source": [
    "datos_puros"
   ]
  },
  {
   "cell_type": "code",
   "execution_count": 23,
   "metadata": {},
   "outputs": [
    {
     "name": "stdout",
     "output_type": "stream",
     "text": [
      "21\n",
      "30\n",
      "22\n",
      "El promedio de edades es: 24.333333333333332\n"
     ]
    }
   ],
   "source": [
    "suma = 0\n",
    "for fila in datos_puros:\n",
    "    print(int(fila[1])) # Esto imprime en pantalla solamente\n",
    "    suma += int(fila[1]) # Aqui sumamos las edades\n",
    "\n",
    "promedio = suma/len(datos_puros)\n",
    "\n",
    "print(\"El promedio de edades es:\", promedio)\n",
    "    "
   ]
  },
  {
   "cell_type": "code",
   "execution_count": null,
   "metadata": {},
   "outputs": [],
   "source": []
  }
 ],
 "metadata": {
  "kernelspec": {
   "display_name": "Python 3",
   "language": "python",
   "name": "python3"
  },
  "language_info": {
   "codemirror_mode": {
    "name": "ipython",
    "version": 3
   },
   "file_extension": ".py",
   "mimetype": "text/x-python",
   "name": "python",
   "nbconvert_exporter": "python",
   "pygments_lexer": "ipython3",
   "version": "3.12.4"
  }
 },
 "nbformat": 4,
 "nbformat_minor": 2
}
